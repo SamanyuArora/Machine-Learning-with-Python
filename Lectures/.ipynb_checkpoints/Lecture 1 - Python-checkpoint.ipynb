{
 "cells": [
  {
   "cell_type": "code",
   "execution_count": 1,
   "id": "2089d230",
   "metadata": {},
   "outputs": [
    {
     "name": "stdout",
     "output_type": "stream",
     "text": [
      "Hello World\n"
     ]
    }
   ],
   "source": [
    "print(\"Hello World\")"
   ]
  },
  {
   "cell_type": "markdown",
   "id": "0cae459f",
   "metadata": {},
   "source": [
    "### Data Types"
   ]
  },
  {
   "cell_type": "code",
   "execution_count": 2,
   "id": "1ca87ad1",
   "metadata": {},
   "outputs": [
    {
     "name": "stdout",
     "output_type": "stream",
     "text": [
      "<class 'NoneType'>\n"
     ]
    }
   ],
   "source": [
    "a = 6 #int\n",
    "b = 3.0 #float\n",
    "c = \"Hello\" #string\n",
    "d = True #bool\n",
    "e = None #None\n",
    "print(type(e))"
   ]
  },
  {
   "cell_type": "markdown",
   "id": "59fa12dc",
   "metadata": {},
   "source": [
    "### Input"
   ]
  },
  {
   "cell_type": "code",
   "execution_count": 3,
   "id": "29cc7b32",
   "metadata": {},
   "outputs": [
    {
     "name": "stdout",
     "output_type": "stream",
     "text": [
      "Enter your name: Erwin\n",
      "Hello Erwin\n",
      "Hello Erwin\n"
     ]
    }
   ],
   "source": [
    "name = input(\"Enter your name: \")\n",
    "print(\"Hello\", name)\n",
    "print(f\"Hello {name}\")"
   ]
  },
  {
   "cell_type": "markdown",
   "id": "9632ab61",
   "metadata": {},
   "source": [
    "### Conditionals"
   ]
  },
  {
   "cell_type": "code",
   "execution_count": 4,
   "id": "e44eb830",
   "metadata": {},
   "outputs": [
    {
     "name": "stdout",
     "output_type": "stream",
     "text": [
      "Enter a number: 7\n",
      "7 is positive\n"
     ]
    }
   ],
   "source": [
    "n = int(input(\"Enter a number: \"))\n",
    "if n>0:\n",
    "    print(f\"{n} is positive\")\n",
    "elif n<0:\n",
    "    print(f\"{n} is negative\")\n",
    "else:\n",
    "    print(f\"{n} is zero\")"
   ]
  },
  {
   "cell_type": "markdown",
   "id": "7abf7132",
   "metadata": {},
   "source": [
    "### Sequences"
   ]
  },
  {
   "cell_type": "code",
   "execution_count": 5,
   "id": "3c1db50d",
   "metadata": {},
   "outputs": [
    {
     "name": "stdout",
     "output_type": "stream",
     "text": [
      "i\n"
     ]
    }
   ],
   "source": [
    "name = \"Erwin\"\n",
    "print(name[3])"
   ]
  },
  {
   "cell_type": "code",
   "execution_count": 6,
   "id": "b72259b8",
   "metadata": {},
   "outputs": [
    {
     "name": "stdout",
     "output_type": "stream",
     "text": [
      "Mikasa\n",
      "k\n",
      "['Eren', 'Armin', 'Mikasa', 'Sasha']\n",
      "['Jean', 'Armin', 'Mikasa', 'Sasha']\n"
     ]
    }
   ],
   "source": [
    "#list - sequence of mutable objects\n",
    "names = [\"Eren\", \"Armin\", \"Mikasa\"]\n",
    "print(names[2])\n",
    "print(names[2][2])\n",
    "names.append(\"Sasha\")\n",
    "print(names)\n",
    "names[0] = \"Jean\"\n",
    "print(names)"
   ]
  },
  {
   "cell_type": "code",
   "execution_count": 7,
   "id": "aac99242",
   "metadata": {},
   "outputs": [
    {
     "name": "stdout",
     "output_type": "stream",
     "text": [
      "(5.0, 20.0)\n"
     ]
    },
    {
     "ename": "TypeError",
     "evalue": "'tuple' object does not support item assignment",
     "output_type": "error",
     "traceback": [
      "\u001b[1;31m---------------------------------------------------------------------------\u001b[0m",
      "\u001b[1;31mTypeError\u001b[0m                                 Traceback (most recent call last)",
      "Input \u001b[1;32mIn [7]\u001b[0m, in \u001b[0;36m<cell line: 4>\u001b[1;34m()\u001b[0m\n\u001b[0;32m      2\u001b[0m coordinates \u001b[38;5;241m=\u001b[39m (\u001b[38;5;241m5.0\u001b[39m, \u001b[38;5;241m20.0\u001b[39m)\n\u001b[0;32m      3\u001b[0m \u001b[38;5;28mprint\u001b[39m(coordinates)\n\u001b[1;32m----> 4\u001b[0m coordinates[\u001b[38;5;241m0\u001b[39m] \u001b[38;5;241m=\u001b[39m \u001b[38;5;241m10.0\u001b[39m\n",
      "\u001b[1;31mTypeError\u001b[0m: 'tuple' object does not support item assignment"
     ]
    }
   ],
   "source": [
    "#tuple - sequence of immutable objects\n",
    "coordinates = (5.0, 20.0)\n",
    "print(coordinates)\n",
    "coordinates[0] = 10.0"
   ]
  },
  {
   "cell_type": "code",
   "execution_count": 8,
   "id": "73cb88c5",
   "metadata": {},
   "outputs": [
    {
     "name": "stdout",
     "output_type": "stream",
     "text": [
      "{1, 2, 3, 4}\n",
      "{1, 3, 4}\n"
     ]
    }
   ],
   "source": [
    "#set - sequence of unique values\n",
    "s = set()\n",
    "s.add(1)\n",
    "s.add(2)\n",
    "s.add(4)\n",
    "s.add(3)\n",
    "s.add(2)\n",
    "print(s)\n",
    "s.remove(2)\n",
    "print(s)"
   ]
  },
  {
   "cell_type": "code",
   "execution_count": 9,
   "id": "9b97315a",
   "metadata": {},
   "outputs": [
    {
     "name": "stdout",
     "output_type": "stream",
     "text": [
      "Military Police\n",
      "{'Eren': 'Scout', 'Hannes': 'Garrison', 'Niles': 'Military Police', 'Armin': 'Scout'}\n",
      "{'Eren': 'Titan', 'Hannes': 'Garrison', 'Niles': 'Military Police', 'Armin': 'Scout'}\n"
     ]
    }
   ],
   "source": [
    "#dictionary - collection of key-value pairs\n",
    "regiment ={\n",
    "    \"Eren\" : \"Scout\",\n",
    "    \"Hannes\" : \"Garrison\",\n",
    "    \"Niles\" : \"Military Police\"\n",
    "}\n",
    "print(regiment[\"Niles\"])\n",
    "regiment[\"Armin\"] = \"Scout\"\n",
    "print(regiment)\n",
    "regiment[\"Eren\"] = \"Titan\"\n",
    "print(regiment)"
   ]
  },
  {
   "cell_type": "code",
   "execution_count": 10,
   "id": "430c6b84",
   "metadata": {},
   "outputs": [
    {
     "name": "stdout",
     "output_type": "stream",
     "text": [
      "4\n",
      "4\n",
      "2\n"
     ]
    }
   ],
   "source": [
    "#len fn\n",
    "print(len(names))\n",
    "print(len(regiment))\n",
    "print(len(coordinates))"
   ]
  },
  {
   "cell_type": "markdown",
   "id": "3d4bdfbf",
   "metadata": {},
   "source": [
    "### Loops"
   ]
  },
  {
   "cell_type": "code",
   "execution_count": 15,
   "id": "8889b624",
   "metadata": {},
   "outputs": [
    {
     "name": "stdout",
     "output_type": "stream",
     "text": [
      "1\n",
      "2\n",
      "3\n",
      "4\n",
      "5\n",
      "\n",
      "0\n",
      "1\n",
      "2\n",
      "3\n",
      "4\n",
      "\n",
      "Jean\n",
      "Armin\n",
      "Mikasa\n",
      "Sasha\n",
      "\n",
      "Eren\n",
      "Hannes\n",
      "Niles\n",
      "Armin\n",
      "\n",
      "Titan\n",
      "Garrison\n",
      "Military Police\n",
      "Scout\n"
     ]
    }
   ],
   "source": [
    "for i in [1, 2, 3, 4, 5]:\n",
    "    print(i)\n",
    "    \n",
    "print()\n",
    "\n",
    "for i in range(5):\n",
    "    print(i)\n",
    "\n",
    "print()\n",
    "\n",
    "for name in names:\n",
    "    print(name)\n",
    "    \n",
    "print() \n",
    "\n",
    "for name in regiment:\n",
    "    print(name)\n",
    "\n",
    "print()\n",
    "\n",
    "for name in regiment:\n",
    "    print(regiment[name])"
   ]
  },
  {
   "cell_type": "markdown",
   "id": "bd6bdd41",
   "metadata": {},
   "source": [
    "### Functions"
   ]
  },
  {
   "cell_type": "code",
   "execution_count": 17,
   "id": "f1750227",
   "metadata": {},
   "outputs": [
    {
     "name": "stdout",
     "output_type": "stream",
     "text": [
      "27\n",
      "The mean of y is 3.0\n"
     ]
    }
   ],
   "source": [
    "def cube(x):\n",
    "    return x**3\n",
    "\n",
    "print(cube(3))\n",
    "\n",
    "def mean(values):\n",
    "    ans = 0\n",
    "    for i in values:\n",
    "        ans = ans + i\n",
    "    ans = ans/len(values)\n",
    "    return ans\n",
    "\n",
    "y = [1, 2, 3, 4, 5]\n",
    "print(f\"The mean of y is {mean(y)}\")"
   ]
  }
 ],
 "metadata": {
  "kernelspec": {
   "display_name": "Python 3 (ipykernel)",
   "language": "python",
   "name": "python3"
  },
  "language_info": {
   "codemirror_mode": {
    "name": "ipython",
    "version": 3
   },
   "file_extension": ".py",
   "mimetype": "text/x-python",
   "name": "python",
   "nbconvert_exporter": "python",
   "pygments_lexer": "ipython3",
   "version": "3.11.5"
  }
 },
 "nbformat": 4,
 "nbformat_minor": 5
}
